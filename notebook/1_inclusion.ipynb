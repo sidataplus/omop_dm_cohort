{
 "cells": [
  {
   "cell_type": "code",
   "execution_count": 1,
   "metadata": {},
   "outputs": [
    {
     "name": "stderr",
     "output_type": "stream",
     "text": [
      "C:\\Users\\krittaphas.chi\\AppData\\Local\\Temp\\ipykernel_69316\\2618961862.py:1: DeprecationWarning: \n",
      "Pyarrow will become a required dependency of pandas in the next major release of pandas (pandas 3.0),\n",
      "(to allow more performant data types, such as the Arrow string type, and better interoperability with other libraries)\n",
      "but was not found to be installed on your system.\n",
      "If this would cause problems for you,\n",
      "please provide us feedback at https://github.com/pandas-dev/pandas/issues/54466\n",
      "        \n",
      "  import pandas as pd\n"
     ]
    }
   ],
   "source": [
    "import pandas as pd\n",
    "import sqlalchemy as sal\n",
    "from dotenv import load_dotenv\n",
    "import os\n",
    "load_dotenv()\n",
    "\n",
    "# Create a connection to the database\n",
    "server_database = os.getenv(\"SERVER_DATABASE\")\n",
    "engine = sal.create_engine(f'mssql+pyodbc://@{server_database}?trusted_connection=yes&driver=SQL+Server')\n",
    "conn = engine.connect()"
   ]
  },
  {
   "cell_type": "markdown",
   "metadata": {},
   "source": [
    "### Diagnosis criteria"
   ]
  },
  {
   "cell_type": "code",
   "execution_count": 2,
   "metadata": {},
   "outputs": [
    {
     "name": "stdout",
     "output_type": "stream",
     "text": [
      "Number of patients included by OMOP concept IDs: 155702\n"
     ]
    }
   ],
   "source": [
    "with open('..\\sql\\inclusion\\icd.sql') as file:\n",
    "    sql_command = file.read()\n",
    "    pt_icd = pd.read_sql(sql_command, conn)\n",
    "    file.close()\n",
    "\n",
    "print(\"Number of patients included by OMOP concept IDs:\",len(pt_icd))"
   ]
  },
  {
   "cell_type": "markdown",
   "metadata": {},
   "source": [
    "### Lab Criteria"
   ]
  },
  {
   "cell_type": "code",
   "execution_count": 3,
   "metadata": {},
   "outputs": [
    {
     "name": "stdout",
     "output_type": "stream",
     "text": [
      "Number of patients included by lab criteria: 83147\n"
     ]
    }
   ],
   "source": [
    "with open('..\\sql\\inclusion\\lab.sql') as file:\n",
    "    sql_command = file.read()\n",
    "    pt_lab = pd.read_sql(sql_command, conn) \n",
    "    file.close()\n",
    "print(\"Number of patients included by lab criteria:\",len(pt_lab))"
   ]
  },
  {
   "cell_type": "markdown",
   "metadata": {},
   "source": [
    "### Drug Criteria"
   ]
  },
  {
   "cell_type": "code",
   "execution_count": 4,
   "metadata": {},
   "outputs": [
    {
     "name": "stdout",
     "output_type": "stream",
     "text": [
      "Number of patients included by drug criteria: 97812\n"
     ]
    }
   ],
   "source": [
    "with open('..\\sql\\inclusion\\drug.sql') as file:\n",
    "    sql_command = file.read()\n",
    "    pt_drug = pd.read_sql(sql_command, conn)\n",
    "    file.close()\n",
    "print(\"Number of patients included by drug criteria:\",len(pt_drug))"
   ]
  },
  {
   "cell_type": "markdown",
   "metadata": {},
   "source": [
    "### Merging all patient hn"
   ]
  },
  {
   "cell_type": "code",
   "execution_count": 5,
   "metadata": {},
   "outputs": [
    {
     "name": "stdout",
     "output_type": "stream",
     "text": [
      "Number of patients included by all criteria: 175319\n"
     ]
    }
   ],
   "source": [
    "all_data = pd.merge(pd.merge(pt_icd, pt_lab, on='person_id', how='outer'), pt_drug, on='person_id', how='outer')\n",
    "print(\"Number of patients included by all criteria:\",len(all_data))\n"
   ]
  },
  {
   "cell_type": "code",
   "execution_count": 6,
   "metadata": {},
   "outputs": [],
   "source": [
    "all_data['diag'] = (~all_data['condition_concept_id'].isna()).astype(int)\n",
    "all_data['lab'] = (~all_data['first_diag_datetime'].isna()).astype(int)\n",
    "all_data['drug'] = (~all_data['drug_source_value'].isna()).astype(int)"
   ]
  },
  {
   "cell_type": "code",
   "execution_count": 7,
   "metadata": {},
   "outputs": [],
   "source": [
    "all_data['first_drug_start_date'] = pd.to_datetime(all_data['first_drug_start_date'])\n",
    "all_data['first_diag'] = pd.to_datetime(all_data['first_diag'])\n",
    "all_data['first_diag_datetime'] = pd.to_datetime(all_data['first_diag_datetime'])"
   ]
  },
  {
   "cell_type": "code",
   "execution_count": 8,
   "metadata": {},
   "outputs": [],
   "source": [
    "all_data['first_date'] = all_data[['first_diag', 'first_diag_datetime', 'first_drug_start_date']].min(axis=1, skipna=True)\n",
    "\n",
    "all_data = all_data.rename(columns={\n",
    "    \"first_drug_start_date\": \"first_drug_date\",\n",
    "    \"first_diag\": \"first_diag_date\",\n",
    "    \"first_diag_datetime\": \"first_lab_date\"\n",
    "    })"
   ]
  },
  {
   "cell_type": "code",
   "execution_count": 9,
   "metadata": {},
   "outputs": [],
   "source": [
    "all_data = all_data[['person_id', 'diag', 'lab', 'drug', 'first_date', \"first_drug_date\", \"first_diag_date\", \"first_lab_date\"]]\n",
    "\n",
    "# create column to track which criteria was met first\n",
    "all_data['first_criteria'] = all_data[['first_diag_date', 'first_lab_date', 'first_drug_date']].idxmin(axis=1)\n",
    "all_data['first_criteria'] = all_data['first_criteria'].apply(lambda x: x.split('_')[1])\n",
    "\n"
   ]
  },
  {
   "cell_type": "code",
   "execution_count": 10,
   "metadata": {},
   "outputs": [],
   "source": [
    "# filter only pt. between June 2013 - Sep 2023\n",
    "all_data_filter = all_data[all_data['first_date'] >= '2013-06-01']\n",
    "all_data_filter = all_data_filter[all_data_filter['first_date'] <= '2023-09-30']"
   ]
  },
  {
   "cell_type": "code",
   "execution_count": 11,
   "metadata": {},
   "outputs": [
    {
     "data": {
      "text/plain": [
       "175319"
      ]
     },
     "execution_count": 11,
     "metadata": {},
     "output_type": "execute_result"
    }
   ],
   "source": [
    "all_data_filter.person_id.nunique()"
   ]
  },
  {
   "cell_type": "code",
   "execution_count": 12,
   "metadata": {},
   "outputs": [
    {
     "data": {
      "text/plain": [
       "first_criteria\n",
       "diag    139391\n",
       "drug     19321\n",
       "lab      16607\n",
       "Name: count, dtype: int64"
      ]
     },
     "execution_count": 12,
     "metadata": {},
     "output_type": "execute_result"
    }
   ],
   "source": [
    "all_data_filter.first_criteria.value_counts()"
   ]
  },
  {
   "cell_type": "code",
   "execution_count": 13,
   "metadata": {},
   "outputs": [],
   "source": [
    "dx = ['diag' if x == 1 else '' for x in all_data['diag']]\n",
    "lab =['lab' if x == 1 else '' for x in all_data['lab']]\n",
    "rx = ['drug' if x == 1 else '' for x in all_data['drug']]\n",
    "result = [i+' '+j+' '+k for i, j, k in zip(dx, lab, rx)]\n",
    "result = [x.strip().replace(' ', '+') for x in result]\n",
    "\n",
    "all_data_filter['criteria'] = result\n"
   ]
  },
  {
   "cell_type": "code",
   "execution_count": 14,
   "metadata": {},
   "outputs": [
    {
     "data": {
      "text/plain": [
       "criteria\n",
       "diag+lab+drug    58886\n",
       "diag             55425\n",
       "diag++drug       28368\n",
       "diag+lab         13023\n",
       "lab               9059\n",
       "drug              8379\n",
       "lab+drug          2179\n",
       "Name: count, dtype: int64"
      ]
     },
     "execution_count": 14,
     "metadata": {},
     "output_type": "execute_result"
    }
   ],
   "source": [
    "all_data_filter['criteria'].value_counts()"
   ]
  },
  {
   "cell_type": "code",
   "execution_count": 15,
   "metadata": {},
   "outputs": [],
   "source": [
    "all_data_filter.to_csv('..\\data\\patient_list_3oct24.csv', index=False)"
   ]
  }
 ],
 "metadata": {
  "kernelspec": {
   "display_name": "Python 3",
   "language": "python",
   "name": "python3"
  },
  "language_info": {
   "codemirror_mode": {
    "name": "ipython",
    "version": 3
   },
   "file_extension": ".py",
   "mimetype": "text/x-python",
   "name": "python",
   "nbconvert_exporter": "python",
   "pygments_lexer": "ipython3",
   "version": "3.10.13"
  }
 },
 "nbformat": 4,
 "nbformat_minor": 2
}
