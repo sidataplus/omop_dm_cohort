{
 "cells": [
  {
   "cell_type": "code",
   "execution_count": 3,
   "metadata": {},
   "outputs": [],
   "source": [
    "import pandas as pd\n",
    "import sqlalchemy as sal\n",
    "from dotenv import load_dotenv\n",
    "import os\n",
    "import numpy as np\n",
    "load_dotenv()\n",
    "\n",
    "# Create a connection to the database\n",
    "server_database = os.getenv(\"SERVER_DATABASE\")\n",
    "engine = sal.create_engine(f'mssql+pyodbc://@{server_database}?trusted_connection=yes&driver=SQL+Server')\n",
    "conn = engine.connect()"
   ]
  },
  {
   "cell_type": "code",
   "execution_count": 4,
   "metadata": {},
   "outputs": [],
   "source": [
    "df = pd.read_csv('../data/patient_list_3oct24.csv', parse_dates=['first_date'])\n",
    "df['first_date'] = df['first_date'].dt.strftime('%Y-%m-%d')\n",
    "\n",
    "# remove person with person_id = 0, BUG\n",
    "df = df[df['person_id'] != 0]"
   ]
  },
  {
   "cell_type": "markdown",
   "metadata": {},
   "source": [
    "### Exclusion criteria:\n",
    "Drug-diagnosis pair"
   ]
  },
  {
   "cell_type": "code",
   "execution_count": 5,
   "metadata": {},
   "outputs": [
    {
     "name": "stdout",
     "output_type": "stream",
     "text": [
      "starting batch  1  of  36 subject  0  to  4999\n",
      "no exisiting dataframe, creating new one\n"
     ]
    }
   ],
   "source": [
    "with open('..\\sql\\exclusion\\drug_diag_pair.sql', 'r') as f:\n",
    "    sql_q = f.read()\n",
    "    f.close()\n",
    "\n",
    "# Due to memory problem, we will query in batch\n",
    "# We will query 10000 at a time\n",
    "pt_list = df['person_id'].to_list()\n",
    "n_per_batch = 5000\n",
    "n_batches = len(pt_list) // n_per_batch + 1\n",
    "\n",
    "result=None\n",
    "\n",
    "for i in range(n_batches):\n",
    "    print(\"starting batch \", i+1, \" of \", n_batches, \"subject \", i*n_per_batch, \" to \", (i+1)*n_per_batch - 1)\n",
    "    pt_sub = str(pt_list[i*n_per_batch:(i+1)*n_per_batch])[1:-1]\n",
    "    sql_q_sub = sql_q.replace('insert_list_person_id', pt_sub)\n",
    "\n",
    "    if result is None:\n",
    "        print(\"no exisiting dataframe, creating new one\")\n",
    "        result = pd.read_sql(sql_q_sub, conn)\n",
    "        print(\"finising batch \", i+1, \" of \", n_batches, 'number of records',len(result))\n",
    "    else:\n",
    "        next_result = pd.read_sql(sql_q_sub, conn)\n",
    "        \n",
    "        result = pd.concat([result, next_result])\n",
    "        print(\"finising batch \", i+1, \" of \", n_batches, 'number of records',len(result))\n"
   ]
  },
  {
   "cell_type": "code",
   "execution_count": 6,
   "metadata": {},
   "outputs": [
    {
     "name": "stdout",
     "output_type": "stream",
     "text": [
      "<class 'pandas.core.frame.DataFrame'>\n",
      "Index: 59937 entries, 0 to 689\n",
      "Data columns (total 6 columns):\n",
      " #   Column            Non-Null Count  Dtype \n",
      "---  ------            --------------  ----- \n",
      " 0   person_id         59937 non-null  int64 \n",
      " 1   first_hf_date     14407 non-null  object\n",
      " 2   first_ckd_date    39328 non-null  object\n",
      " 3   first_obs_date    19453 non-null  object\n",
      " 4   glp_start_date    2508 non-null   object\n",
      " 5   sglt2_start_date  5568 non-null   object\n",
      "dtypes: int64(1), object(5)\n",
      "memory usage: 3.2+ MB\n"
     ]
    }
   ],
   "source": [
    "result.info()"
   ]
  },
  {
   "cell_type": "code",
   "execution_count": 7,
   "metadata": {},
   "outputs": [],
   "source": [
    "result['sglt2_hf'] = result['first_hf_date'] < result['sglt2_start_date']\n",
    "result['sglt2_ckd'] = result['first_ckd_date'] < result['sglt2_start_date']\n",
    "result['glp_obs'] = result['first_obs_date'] < result['glp_start_date']"
   ]
  },
  {
   "cell_type": "code",
   "execution_count": 8,
   "metadata": {},
   "outputs": [
    {
     "data": {
      "text/plain": [
       "sglt2_hf     1339\n",
       "sglt2_ckd    2915\n",
       "glp_obs      1402\n",
       "dtype: int64"
      ]
     },
     "execution_count": 8,
     "metadata": {},
     "output_type": "execute_result"
    }
   ],
   "source": [
    "result[['sglt2_hf', 'sglt2_ckd', 'glp_obs']].sum()"
   ]
  },
  {
   "cell_type": "code",
   "execution_count": 9,
   "metadata": {},
   "outputs": [],
   "source": [
    "df_merged = df.merge(result[['person_id','sglt2_hf', 'sglt2_ckd', 'glp_obs']], on='person_id', how='left')"
   ]
  },
  {
   "cell_type": "code",
   "execution_count": 11,
   "metadata": {},
   "outputs": [],
   "source": [
    "df_merged.to_pickle(\"../data/exclude_df_drug_diag_pair_3oct.pkl\")\n"
   ]
  },
  {
   "cell_type": "code",
   "execution_count": 12,
   "metadata": {},
   "outputs": [],
   "source": [
    "df_merged = pd.read_pickle(\"../data/exclude_df_drug_diag_pair_3oct.pkl\")"
   ]
  },
  {
   "cell_type": "code",
   "execution_count": 13,
   "metadata": {},
   "outputs": [
    {
     "name": "stdout",
     "output_type": "stream",
     "text": [
      "pt. with sglt2_hf:  240\n",
      "pt. with sglt2_ckd:  255\n",
      "pt. with glp_obs:  149\n",
      "pt. with sglt2_hf or sglt2_ckd or glp_obs:  549\n"
     ]
    }
   ],
   "source": [
    "sglt2_hf_pt = df_merged.loc[(df_merged['criteria'] == 'drug') & df_merged['sglt2_hf'], 'person_id'].to_list()\n",
    "sglt2_ckd_pt = df_merged.loc[(df_merged['criteria'] == 'drug') & df_merged['sglt2_ckd'], 'person_id'].to_list()\n",
    "glp_obs_pt = df_merged.loc[(df_merged['criteria'] == 'drug') & df_merged['glp_obs'], 'person_id'].to_list()\n",
    "\n",
    "print(\"pt. with sglt2_hf: \", len(sglt2_hf_pt))\n",
    "print(\"pt. with sglt2_ckd: \", len(sglt2_ckd_pt))\n",
    "print(\"pt. with glp_obs: \", len(glp_obs_pt))\n",
    "\n",
    "# union all the person_id together\n",
    "exc_dx_drug = list(set(sglt2_hf_pt + sglt2_ckd_pt + glp_obs_pt))\n",
    "\n",
    "print(\"pt. with sglt2_hf or sglt2_ckd or glp_obs: \", len(exc_dx_drug))\n"
   ]
  },
  {
   "cell_type": "markdown",
   "metadata": {},
   "source": [
    "### Exclusion criteria:\n",
    "Age < 18 year"
   ]
  },
  {
   "cell_type": "code",
   "execution_count": 15,
   "metadata": {},
   "outputs": [],
   "source": [
    "## Get year at birth\n",
    "sql = \"\"\"\n",
    "SELECT person_id, year_of_birth\n",
    "FROM omop.person\n",
    "\"\"\"\n",
    "\n",
    "df_yob = pd.read_sql(sql, conn)"
   ]
  },
  {
   "cell_type": "code",
   "execution_count": 16,
   "metadata": {},
   "outputs": [],
   "source": [
    "df = df.merge(df_yob, on='person_id', how='left')"
   ]
  },
  {
   "cell_type": "code",
   "execution_count": 17,
   "metadata": {},
   "outputs": [],
   "source": [
    "df['first_date'] = pd.to_datetime(df['first_date'])\n",
    "\n",
    "# Get age of patient at first diagnosis date\n",
    "df['age'] = df['first_date'].dt.year - df['year_of_birth']"
   ]
  },
  {
   "cell_type": "code",
   "execution_count": 18,
   "metadata": {},
   "outputs": [],
   "source": [
    "age18_pt = df.loc[df['age'] < 18, 'person_id'].to_list()"
   ]
  },
  {
   "cell_type": "markdown",
   "metadata": {},
   "source": [
    "### Exclusion criteria\n",
    "have T1DM diagnosis"
   ]
  },
  {
   "cell_type": "code",
   "execution_count": 19,
   "metadata": {},
   "outputs": [],
   "source": [
    "with open(\"../sql/exclusion/t1dm.sql\", \"r\") as file:\n",
    "    sql = file.read()\n",
    "    file.close()\n",
    "\n",
    "t1dm = pd.read_sql(sql, conn)"
   ]
  },
  {
   "cell_type": "code",
   "execution_count": 21,
   "metadata": {},
   "outputs": [],
   "source": [
    "t1dm_pt = t1dm['person_id'].to_list()"
   ]
  },
  {
   "cell_type": "markdown",
   "metadata": {},
   "source": [
    "### Union all excluded patients"
   ]
  },
  {
   "cell_type": "code",
   "execution_count": 22,
   "metadata": {},
   "outputs": [
    {
     "name": "stdout",
     "output_type": "stream",
     "text": [
      "pt. with age < 18:  1360\n",
      "pt. with t1dm:  2372\n",
      "pt. with drug_diag:  549\n",
      "All excluded pt. :  3827\n"
     ]
    }
   ],
   "source": [
    "print(\"pt. with age < 18: \", len(age18_pt))\n",
    "print(\"pt. with t1dm: \", len(t1dm_pt))\n",
    "print(\"pt. with drug_diag: \", len(exc_dx_drug))\n",
    "\n",
    "all_exclude_pt = set(age18_pt + t1dm_pt + exc_dx_drug)\n",
    "\n",
    "print(\"All excluded pt. : \", len(all_exclude_pt))"
   ]
  },
  {
   "cell_type": "code",
   "execution_count": 23,
   "metadata": {},
   "outputs": [],
   "source": [
    "# remove excluded pt. from the df\n",
    "df = df[~df['person_id'].isin(all_exclude_pt)]"
   ]
  },
  {
   "cell_type": "code",
   "execution_count": 27,
   "metadata": {},
   "outputs": [
    {
     "data": {
      "text/plain": [
       "169714"
      ]
     },
     "execution_count": 27,
     "metadata": {},
     "output_type": "execute_result"
    }
   ],
   "source": [
    "df.person_id.nunique()"
   ]
  },
  {
   "cell_type": "code",
   "execution_count": 25,
   "metadata": {},
   "outputs": [],
   "source": [
    "df.to_csv('../data/cohort_3oct.csv', index=False)"
   ]
  },
  {
   "cell_type": "code",
   "execution_count": 26,
   "metadata": {},
   "outputs": [
    {
     "data": {
      "text/plain": [
       "criteria\n",
       "diag+lab+drug    58052\n",
       "diag             52667\n",
       "diag++drug       28116\n",
       "lab              14532\n",
       "diag+lab          7340\n",
       "drug              7114\n",
       "lab+drug          1893\n",
       "Name: count, dtype: int64"
      ]
     },
     "execution_count": 26,
     "metadata": {},
     "output_type": "execute_result"
    }
   ],
   "source": [
    "df['criteria'].value_counts()"
   ]
  }
 ],
 "metadata": {
  "kernelspec": {
   "display_name": "Python 3",
   "language": "python",
   "name": "python3"
  },
  "language_info": {
   "codemirror_mode": {
    "name": "ipython",
    "version": 3
   },
   "file_extension": ".py",
   "mimetype": "text/x-python",
   "name": "python",
   "nbconvert_exporter": "python",
   "pygments_lexer": "ipython3",
   "version": "3.10.13"
  }
 },
 "nbformat": 4,
 "nbformat_minor": 2
}
